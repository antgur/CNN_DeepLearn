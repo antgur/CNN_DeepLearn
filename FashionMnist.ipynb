{
 "cells": [
  {
   "cell_type": "code",
   "execution_count": 50,
   "metadata": {},
   "outputs": [],
   "source": [
    "from __future__ import print_function\n",
    "import keras\n",
    "from keras.datasets import fashion_mnist # new with Keras 2.1.2.\n",
    "from keras.models import Sequential\n",
    "from keras.layers import Dense, Dropout, Flatten\n",
    "from keras.layers import Conv2D, MaxPooling2D\n",
    "from keras import backend as K"
   ]
  },
  {
   "cell_type": "code",
   "execution_count": 51,
   "metadata": {},
   "outputs": [],
   "source": [
    "import os\n",
    "os.environ['TF_CPP_MIN_LOG_LEVEL'] = '2'"
   ]
  },
  {
   "cell_type": "code",
   "execution_count": 52,
   "metadata": {},
   "outputs": [],
   "source": [
    "num_classes = 10"
   ]
  },
  {
   "cell_type": "code",
   "execution_count": 53,
   "metadata": {},
   "outputs": [],
   "source": [
    "batch_size = 128\n",
    "epochs = 24"
   ]
  },
  {
   "cell_type": "code",
   "execution_count": 54,
   "metadata": {},
   "outputs": [],
   "source": [
    "img_rows, img_cols = 28, 28"
   ]
  },
  {
   "cell_type": "code",
   "execution_count": 55,
   "metadata": {},
   "outputs": [],
   "source": [
    "(x_train, y_train), (x_test, y_test) = fashion_mnist.load_data()"
   ]
  },
  {
   "cell_type": "code",
   "execution_count": 56,
   "metadata": {},
   "outputs": [],
   "source": [
    "if K.image_data_format() == 'channels_first':\n",
    "    x_train = x_train.reshape(x_train.shape[0], 1, img_rows, img_cols)\n",
    "    x_test = x_test.reshape(x_test.shape[0], 1, img_rows, img_cols)\n",
    "    input_shape = (1, img_rows, img_cols)\n",
    "else:\n",
    "    x_train = x_train.reshape(x_train.shape[0], img_rows, img_cols, 1)\n",
    "    x_test = x_test.reshape(x_test.shape[0], img_rows, img_cols, 1)\n",
    "    input_shape = (img_rows, img_cols, 1)"
   ]
  },
  {
   "cell_type": "code",
   "execution_count": 57,
   "metadata": {},
   "outputs": [],
   "source": [
    "x_train = x_train.astype('float32')\n",
    "x_test = x_test.astype('float32')\n",
    "x_train /= 255\n",
    "x_test /= 255"
   ]
  },
  {
   "cell_type": "code",
   "execution_count": 58,
   "metadata": {},
   "outputs": [],
   "source": [
    "y_train = keras.utils.to_categorical(y_train, num_classes)\n",
    "y_test = keras.utils.to_categorical(y_test, num_classes)"
   ]
  },
  {
   "cell_type": "code",
   "execution_count": 59,
   "metadata": {},
   "outputs": [],
   "source": [
    "model = Sequential()\n",
    "model.add(Conv2D(32, kernel_size=(3, 3),\n",
    "                activation='relu',\n",
    "                input_shape=input_shape))"
   ]
  },
  {
   "cell_type": "code",
   "execution_count": 60,
   "metadata": {},
   "outputs": [],
   "source": [
    "model.add(MaxPooling2D(pool_size=(2, 2)))"
   ]
  },
  {
   "cell_type": "code",
   "execution_count": 61,
   "metadata": {},
   "outputs": [],
   "source": [
    "model.add(Conv2D(64, (3, 3), activation='relu'))\n",
    "#model.add(MaxPooling2D(pool_size=(2, 2)))"
   ]
  },
  {
   "cell_type": "code",
   "execution_count": 62,
   "metadata": {},
   "outputs": [],
   "source": [
    "model.add(Flatten())\n",
    "model.add(Dense(128, activation='relu'))"
   ]
  },
  {
   "cell_type": "code",
   "execution_count": 63,
   "metadata": {},
   "outputs": [],
   "source": [
    "model.add(Dropout(0.5))"
   ]
  },
  {
   "cell_type": "code",
   "execution_count": 64,
   "metadata": {},
   "outputs": [],
   "source": [
    "model.add(Dense(num_classes, activation='softmax'))"
   ]
  },
  {
   "cell_type": "code",
   "execution_count": 65,
   "metadata": {},
   "outputs": [],
   "source": [
    "model.compile(loss=keras.losses.categorical_crossentropy,\n",
    "             optimizer=keras.optimizers.Adadelta(),\n",
    "             metrics=['accuracy'])"
   ]
  },
  {
   "cell_type": "code",
   "execution_count": 66,
   "metadata": {},
   "outputs": [
    {
     "name": "stdout",
     "output_type": "stream",
     "text": [
      "Train on 60000 samples, validate on 10000 samples\n",
      "Epoch 1/24\n",
      "60000/60000 [==============================] - 32s 530us/step - loss: 0.6170 - accuracy: 0.7796 - val_loss: 0.4129 - val_accuracy: 0.8450\n",
      "Epoch 2/24\n",
      "60000/60000 [==============================] - 32s 530us/step - loss: 0.3817 - accuracy: 0.8645 - val_loss: 0.3253 - val_accuracy: 0.8803\n",
      "Epoch 3/24\n",
      "60000/60000 [==============================] - 32s 540us/step - loss: 0.3266 - accuracy: 0.8826 - val_loss: 0.2902 - val_accuracy: 0.8923\n",
      "Epoch 4/24\n",
      "60000/60000 [==============================] - 33s 545us/step - loss: 0.2925 - accuracy: 0.8953 - val_loss: 0.2918 - val_accuracy: 0.8912\n",
      "Epoch 5/24\n",
      "60000/60000 [==============================] - 33s 545us/step - loss: 0.2655 - accuracy: 0.9040 - val_loss: 0.2640 - val_accuracy: 0.9030\n",
      "Epoch 6/24\n",
      "60000/60000 [==============================] - 33s 548us/step - loss: 0.2469 - accuracy: 0.9099 - val_loss: 0.2473 - val_accuracy: 0.9088\n",
      "Epoch 7/24\n",
      "60000/60000 [==============================] - 33s 550us/step - loss: 0.2292 - accuracy: 0.9166 - val_loss: 0.2379 - val_accuracy: 0.9138\n",
      "Epoch 8/24\n",
      "60000/60000 [==============================] - 33s 550us/step - loss: 0.2152 - accuracy: 0.9229 - val_loss: 0.2394 - val_accuracy: 0.9109\n",
      "Epoch 9/24\n",
      "60000/60000 [==============================] - 33s 551us/step - loss: 0.2010 - accuracy: 0.9280 - val_loss: 0.2406 - val_accuracy: 0.9124\n",
      "Epoch 10/24\n",
      "60000/60000 [==============================] - 33s 551us/step - loss: 0.1890 - accuracy: 0.9317 - val_loss: 0.2322 - val_accuracy: 0.9176\n",
      "Epoch 11/24\n",
      "60000/60000 [==============================] - 33s 553us/step - loss: 0.1771 - accuracy: 0.9352 - val_loss: 0.2304 - val_accuracy: 0.9196\n",
      "Epoch 12/24\n",
      "60000/60000 [==============================] - 33s 555us/step - loss: 0.1680 - accuracy: 0.9381 - val_loss: 0.2282 - val_accuracy: 0.9221\n",
      "Epoch 13/24\n",
      "60000/60000 [==============================] - 33s 556us/step - loss: 0.1598 - accuracy: 0.9411 - val_loss: 0.2342 - val_accuracy: 0.9194\n",
      "Epoch 14/24\n",
      "60000/60000 [==============================] - 34s 559us/step - loss: 0.1501 - accuracy: 0.9452 - val_loss: 0.2177 - val_accuracy: 0.9257\n",
      "Epoch 15/24\n",
      "60000/60000 [==============================] - 34s 562us/step - loss: 0.1445 - accuracy: 0.9477 - val_loss: 0.2263 - val_accuracy: 0.9245\n",
      "Epoch 16/24\n",
      "60000/60000 [==============================] - 36s 594us/step - loss: 0.1347 - accuracy: 0.9505 - val_loss: 0.2336 - val_accuracy: 0.9250\n",
      "Epoch 17/24\n",
      "60000/60000 [==============================] - 36s 601us/step - loss: 0.1278 - accuracy: 0.9538 - val_loss: 0.2438 - val_accuracy: 0.9255\n",
      "Epoch 18/24\n",
      "60000/60000 [==============================] - 34s 567us/step - loss: 0.1205 - accuracy: 0.9557 - val_loss: 0.2786 - val_accuracy: 0.9181\n",
      "Epoch 19/24\n",
      "60000/60000 [==============================] - 33s 554us/step - loss: 0.1159 - accuracy: 0.9585 - val_loss: 0.2373 - val_accuracy: 0.9267\n",
      "Epoch 20/24\n",
      "60000/60000 [==============================] - 33s 558us/step - loss: 0.1089 - accuracy: 0.9599 - val_loss: 0.2275 - val_accuracy: 0.9277\n",
      "Epoch 21/24\n",
      "60000/60000 [==============================] - 35s 588us/step - loss: 0.1043 - accuracy: 0.9623 - val_loss: 0.2773 - val_accuracy: 0.9263\n",
      "Epoch 22/24\n",
      "60000/60000 [==============================] - 35s 590us/step - loss: 0.0977 - accuracy: 0.9635 - val_loss: 0.2308 - val_accuracy: 0.9260\n",
      "Epoch 23/24\n",
      "60000/60000 [==============================] - 34s 574us/step - loss: 0.0942 - accuracy: 0.9660 - val_loss: 0.2883 - val_accuracy: 0.9180\n",
      "Epoch 24/24\n",
      "60000/60000 [==============================] - 35s 576us/step - loss: 0.0915 - accuracy: 0.9666 - val_loss: 0.2650 - val_accuracy: 0.9321\n"
     ]
    }
   ],
   "source": [
    "hist = model.fit(x_train, y_train,\n",
    "                batch_size=batch_size,\n",
    "                epochs=epochs,\n",
    "                validation_data=(x_test, y_test))"
   ]
  },
  {
   "cell_type": "code",
   "execution_count": 67,
   "metadata": {},
   "outputs": [
    {
     "name": "stdout",
     "output_type": "stream",
     "text": [
      "Test loss: 0.26495399959087373\n",
      "Test accuracy: 0.9320999979972839\n"
     ]
    }
   ],
   "source": [
    "score = model.evaluate(x_test, y_test, verbose=0)\n",
    "print('Test loss:', score[0])\n",
    "print('Test accuracy:', score[1])"
   ]
  },
  {
   "cell_type": "code",
   "execution_count": 68,
   "metadata": {},
   "outputs": [
    {
     "data": {
      "image/png": "[encoded data removed]",
      "text/plain": [
       "<Figure size 432x288 with 1 Axes>"
      ]
     },
     "metadata": {
      "needs_background": "light"
     },
     "output_type": "display_data"
    }
   ],
   "source": [
    "import numpy as np\n",
    "import matplotlib.pyplot as plt\n",
    "epoch_list = list(range(1, len(hist.history['accuracy']) + 1))\n",
    "plt.plot(epoch_list, hist.history['accuracy'], epoch_list, hist.history['val_accuracy'])\n",
    "plt.legend(('Training Accuracy', 'Validation Accuracy'))\n",
    "plt.show()"
   ]
  },
  {
   "cell_type": "code",
   "execution_count": null,
   "metadata": {},
   "outputs": [],
   "source": []
  }
 ],
 "metadata": {
  "kernelspec": {
   "display_name": "Python 3",
   "language": "python",
   "name": "python3"
  },
  "language_info": {
   "codemirror_mode": {
    "name": "ipython",
    "version": 3
   },
   "file_extension": ".py",
   "mimetype": "text/x-python",
   "name": "python",
   "nbconvert_exporter": "python",
   "pygments_lexer": "ipython3",
   "version": "3.7.4"
  }
 },
 "nbformat": 4,
 "nbformat_minor": 2
}
